{
  "nbformat": 4,
  "nbformat_minor": 0,
  "metadata": {
    "colab": {
      "name": "Tricia B. HW 1.2",
      "provenance": [],
      "include_colab_link": true
    },
    "kernelspec": {
      "name": "python3",
      "display_name": "Python 3"
    },
    "language_info": {
      "name": "python"
    }
  },
  "cells": [
    {
      "cell_type": "markdown",
      "metadata": {
        "id": "view-in-github",
        "colab_type": "text"
      },
      "source": [
        "<a href=\"https://colab.research.google.com/github/wanghaiy2018/DataScience/blob/main/Tricia_B_HW_1_2.ipynb\" target=\"_parent\"><img src=\"https://colab.research.google.com/assets/colab-badge.svg\" alt=\"Open In Colab\"/></a>"
      ]
    },
    {
      "cell_type": "markdown",
      "source": [
        "# Homework 1.2\n",
        "\n",
        "# Basics of Linear Algebra\n",
        "\n"
      ],
      "metadata": {
        "id": "PwprWkG-lEax"
      }
    },
    {
      "cell_type": "code",
      "execution_count": null,
      "metadata": {
        "colab": {
          "base_uri": "https://localhost:8080/"
        },
        "id": "Nd5nNm34Z9Wd",
        "outputId": "753e3724-5e4a-49dd-e47e-d71c00407677"
      },
      "outputs": [
        {
          "output_type": "stream",
          "name": "stdout",
          "text": [
            "Horizontal Vector\n",
            "[2 4 6]\n"
          ]
        }
      ],
      "source": [
        "import numpy as np\n",
        "a = [2,4,6]\n",
        "vctr=np.array(a)\n",
        "print(\"Horizontal Vector\")\n",
        "print(vctr)"
      ]
    },
    {
      "cell_type": "code",
      "source": [
        "import numpy as np\n",
        "v1 = [1,3,5]\n",
        "v2 = [9,7,0]\n",
        "v3 = [2,8,8]\n",
        "x = np.array(v1)\n",
        "y = np.array(v2)\n",
        "z = np.array(v3)\n",
        "print (\"Vectors x, y, z\")\n",
        "print (x, y, z)\n",
        "print (\"Linear Combination\")\n",
        "print (\"2x + 4y + 5z\")\n",
        "sumlc = 2*x + 4*y + 5*z\n",
        "print (sumlc)"
      ],
      "metadata": {
        "colab": {
          "base_uri": "https://localhost:8080/"
        },
        "id": "pLe-Y2WKpzgx",
        "outputId": "e40a8e2e-17a0-4069-c25b-53e7ba511854"
      },
      "execution_count": null,
      "outputs": [
        {
          "output_type": "stream",
          "name": "stdout",
          "text": [
            "Vectors x, y, z\n",
            "[1 3 5] [9 7 0] [2 8 8]\n",
            "Linear Combination\n",
            "2x + 4y + 5z\n",
            "[48 74 50]\n"
          ]
        }
      ]
    },
    {
      "cell_type": "code",
      "source": [
        "print (\"Span - all linear combinations of a collection of vectors.\")\n",
        "import numpy as np\n",
        "v1 = [0,1]\n",
        "v2 = [1,0]\n",
        "x = np.array(v1)\n",
        "y = np.array(v2)\n",
        "print (\"Vectors x, y\")\n",
        "print (x, y)\n",
        "print (\"The span of these vectors is R^2\")\n",
        "print (\"Example: 3x + 11y is in R^2\")\n",
        "sumlc = 3*x + 11*y\n",
        "print (sumlc)\n",
        "\n"
      ],
      "metadata": {
        "colab": {
          "base_uri": "https://localhost:8080/"
        },
        "id": "wOiU1MFLrLwE",
        "outputId": "ef8b5595-c858-4407-98a9-e74764454e17"
      },
      "execution_count": null,
      "outputs": [
        {
          "output_type": "stream",
          "name": "stdout",
          "text": [
            "Span - all linear combinations of a collection of vectors.\n",
            "Vectors x, y\n",
            "[0 1] [1 0]\n",
            "The span of these vectors is R^2\n",
            "Example: 3x + 11y is in R^2\n",
            "[11  3]\n"
          ]
        }
      ]
    },
    {
      "cell_type": "code",
      "source": [
        "print (\"Linear Dependent vectors are multiples of each other.\")\n",
        "h = [1,2]\n",
        "k = [2,4]\n",
        "red = np.array(h)\n",
        "blue = np.array(k)\n",
        "print (\"Vectors red and blue\")\n",
        "print (red, blue)\n",
        "import numpy as np\n",
        "import matplotlib.pyplot as plt\n",
        "\n",
        "V = np.array([[1,2], [2,4]])\n",
        "origin = np.array([[0, 0],[0, 0]]) # origin point\n",
        "\n",
        "plt.quiver(*origin, V[:,0], V[:,1], color=['r','b'], scale=15)\n",
        "plt.show()"
      ],
      "metadata": {
        "colab": {
          "base_uri": "https://localhost:8080/",
          "height": 317
        },
        "id": "8Zl1DN-q5sBJ",
        "outputId": "7ecad88d-7dae-4146-df38-8f9f9a88d423"
      },
      "execution_count": null,
      "outputs": [
        {
          "output_type": "stream",
          "name": "stdout",
          "text": [
            "Linear Dependent vectors are multiples of each other.\n",
            "Vectors red and blue\n",
            "[1 2] [2 4]\n"
          ]
        },
        {
          "output_type": "display_data",
          "data": {
            "text/plain": [
              "<Figure size 432x288 with 1 Axes>"
            ],
            "image/png": "[encoded data removed]"
          },
          "metadata": {
            "needs_background": "light"
          }
        }
      ]
    },
    {
      "cell_type": "code",
      "source": [
        "print (\"Linear Independent vectors cannot be multiples of each other.\")\n",
        "h = [2,-5]\n",
        "k = [3,4]\n",
        "red = np.array(h)\n",
        "blue = np.array(k)\n",
        "print (\"Vectors red and blue\")\n",
        "print (red, blue)\n",
        "import numpy as np\n",
        "import matplotlib.pyplot as plt\n",
        "\n",
        "V = np.array([[2,-5], [3,4]])\n",
        "origin = np.array([[0, 0],[0, 0]]) # origin point\n",
        "\n",
        "plt.quiver(*origin, V[:,0], V[:,1], color=['r','b'], scale=15)\n",
        "plt.show()"
      ],
      "metadata": {
        "colab": {
          "base_uri": "https://localhost:8080/",
          "height": 317
        },
        "id": "Gb_cb5UuB_wq",
        "outputId": "527b2052-a96a-490f-f75b-f8bb83061797"
      },
      "execution_count": null,
      "outputs": [
        {
          "output_type": "stream",
          "name": "stdout",
          "text": [
            "Linear Independent vectors cannot be multiples of each other.\n",
            "Vectors red and blue\n",
            "[ 2 -5] [3 4]\n"
          ]
        },
        {
          "output_type": "display_data",
          "data": {
            "text/plain": [
              "<Figure size 432x288 with 1 Axes>"
            ],
            "image/png": "[encoded data removed]"
          },
          "metadata": {
            "needs_background": "light"
          }
        }
      ]
    },
    {
      "cell_type": "markdown",
      "source": [
        "\n",
        "\n",
        "# Orthogonality\n",
        "\n"
      ],
      "metadata": {
        "id": "0JjYZ7Q4C2EQ"
      }
    },
    {
      "cell_type": "code",
      "source": [
        "print (\"Two vectors are orthogonal if they are perpendicular to each other. Their dot product will equal zero.\")\n",
        "import numpy as np\n",
        " \n",
        "a = [0,1,0]\n",
        "b = [1,0,0]\n",
        "v1 = np.array(a)\n",
        "v2 = np.array(b)\n",
        "print (\"Vectors a and b have a dot product of zero\")\n",
        "print (v1, v2)\n",
        " \n",
        "print(np.dot(a, b))"
      ],
      "metadata": {
        "colab": {
          "base_uri": "https://localhost:8080/"
        },
        "id": "bZDmFFtoC7Nw",
        "outputId": "3eabbae3-a6f7-4636-ce8c-68eb13705ff0"
      },
      "execution_count": null,
      "outputs": [
        {
          "output_type": "stream",
          "name": "stdout",
          "text": [
            "Two vectors are orthogonal if they are perpendicular to each other. Their dot product will equal zero.\n",
            "Vectors a and b have a dot product of zero\n",
            "[0 1 0] [1 0 0]\n",
            "0\n"
          ]
        }
      ]
    },
    {
      "cell_type": "markdown",
      "source": [
        "# Gram-Schmidt Process\n",
        "\n",
        "\n",
        "*   Where vectors are transformed to orthonormal vectors.\n",
        "\n"
      ],
      "metadata": {
        "id": "Pmaecp-0MIOM"
      }
    },
    {
      "cell_type": "code",
      "source": [
        "print (\"Simple Example:\")\n",
        "import numpy as np\n",
        "A = [7]\n",
        "v1 = np.array(A)\n",
        "print (\"Vector A\")\n",
        "print (v1)\n",
        "print (\"R^1 = span of vector A\")\n",
        "print (\"Vector B = Vector A divided by length of Vector A.\")\n",
        "np.linalg.norm(A)\n",
        "mult = v1/np.linalg.norm(A)\n",
        "print (\"Vector B =\", mult)\n",
        "print (\"Vector B is orthonormal.\")\n"
      ],
      "metadata": {
        "colab": {
          "base_uri": "https://localhost:8080/"
        },
        "id": "MvetuRy9MPQx",
        "outputId": "369bd04e-db16-4538-a36f-c836bd9f24b9"
      },
      "execution_count": null,
      "outputs": [
        {
          "output_type": "stream",
          "name": "stdout",
          "text": [
            "Simple Example:\n",
            "Vector A\n",
            "[7]\n",
            "R^1 = span of vector A\n",
            "Vector B = Vector A divided by length of Vector A.\n",
            "Vector B = [1.]\n",
            "Vector B is orthonormal.\n"
          ]
        }
      ]
    },
    {
      "cell_type": "markdown",
      "source": [
        "\n",
        "\n",
        "#Eigenvalues and Eigenvectors\n",
        "\n"
      ],
      "metadata": {
        "id": "Z4LOkymOFmyo"
      }
    },
    {
      "cell_type": "code",
      "source": [
        "import numpy as np\n",
        "A = [[0,-2],[-4,2]]\n",
        "B = [[1],[1]]\n",
        "v1 = np.array(A)\n",
        "v2 = np.array(B)\n",
        "print (\"Vector A\")\n",
        "print (v1)\n",
        "\n",
        "print (\"Vector B\")\n",
        "print (v2)\n",
        "\n",
        "np.dot(v1,v2)\n",
        "print (\"Multiplication of A and B.\")\n",
        "print (np.dot(v1,v2),\"= -2B\")\n",
        "\n",
        "print (\"AB is a multiple of vector B.\")\n",
        "print (\"Because of this, vector B is an Eigenvector of vector A. -2 is the eigenvalue.\")\n",
        "\n"
      ],
      "metadata": {
        "colab": {
          "base_uri": "https://localhost:8080/"
        },
        "id": "VuU3io6iGIdi",
        "outputId": "a1be37d8-611c-4cd7-c8af-fefa9b4294ec"
      },
      "execution_count": null,
      "outputs": [
        {
          "output_type": "stream",
          "name": "stdout",
          "text": [
            "Vector A\n",
            "[[ 0 -2]\n",
            " [-4  2]]\n",
            "Vector B\n",
            "[[1]\n",
            " [1]]\n",
            "Multiplication of A and B.\n",
            "[[-2]\n",
            " [-2]] = -2B\n",
            "AB is a multiple of vector B.\n",
            "Because of this, vector B is an Eigenvector of vector A. -2 is the eigenvalue.\n"
          ]
        }
      ]
    }
  ]
}